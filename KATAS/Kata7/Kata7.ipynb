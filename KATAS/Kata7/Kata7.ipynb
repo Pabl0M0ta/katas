{
 "cells": [
  {
   "cell_type": "code",
   "execution_count": null,
   "metadata": {},
   "outputs": [],
   "source": []
  },
  {
   "cell_type": "markdown",
   "metadata": {},
   "source": [
    "# Kata7"
   ]
  },
  {
   "cell_type": "code",
   "execution_count": 1,
   "metadata": {},
   "outputs": [
    {
     "name": "stdout",
     "output_type": "stream",
     "text": [
      "Ingresa los planetas que desees, para termina escribe DONE\n"
     ]
    }
   ],
   "source": [
    "new_planet=''\n",
    "planet=[]\n",
    "print(\"Ingresa los planetas que desees, para termina escribe DONE\")\n",
    "while new_planet.lower() != 'done':\n",
    "    if new_planet:\n",
    "        planet.append(new_planet)\n",
    "    new_planet = input('Ingresa tus planetas ')"
   ]
  },
  {
   "cell_type": "markdown",
   "metadata": {},
   "source": [
    "# Ejercicio 2"
   ]
  },
  {
   "cell_type": "code",
   "execution_count": 2,
   "metadata": {},
   "outputs": [
    {
     "name": "stdout",
     "output_type": "stream",
     "text": [
      "Ingresa los planetas que desees, para termina escribe DONE\n"
     ]
    }
   ],
   "source": [
    "new_planet=''\n",
    "planets=[]\n",
    "print(\"Ingresa los planetas que desees, para termina escribe DONE\")\n",
    "while new_planet.lower() != 'done':\n",
    "    if new_planet:\n",
    "        planets.append(new_planet)\n",
    "    new_planet = input('Ingresa tus planetas ')\n",
    "for planet in planets:\n",
    "    print(planet)"
   ]
  }
 ],
 "metadata": {
  "interpreter": {
   "hash": "73837c03fa6129749b72be899d227341d5d8f5f75729ec246d6192c98e05bae6"
  },
  "kernelspec": {
   "display_name": "Python 3.10.2 64-bit",
   "language": "python",
   "name": "python3"
  },
  "language_info": {
   "codemirror_mode": {
    "name": "ipython",
    "version": 3
   },
   "file_extension": ".py",
   "mimetype": "text/x-python",
   "name": "python",
   "nbconvert_exporter": "python",
   "pygments_lexer": "ipython3",
   "version": "3.10.2"
  },
  "orig_nbformat": 4
 },
 "nbformat": 4,
 "nbformat_minor": 2
}
