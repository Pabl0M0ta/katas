{
 "cells": [
  {
   "cell_type": "code",
   "execution_count": null,
   "metadata": {},
   "outputs": [],
   "source": []
  },
  {
   "cell_type": "markdown",
   "metadata": {},
   "source": [
    "# KATA 3"
   ]
  },
  {
   "cell_type": "code",
   "execution_count": 20,
   "metadata": {},
   "outputs": [
    {
     "name": "stdout",
     "output_type": "stream",
     "text": [
      "Peligro Asteroide Acercandose\n"
     ]
    }
   ],
   "source": [
    "Velocidadasteroide= 49\n",
    "if Velocidadasteroide >=25:  \n",
    "    print(\"Peligro Asteroide Acercandose\")\n",
    "else: \n",
    "    print(\"No hay peligros cerca\")    "
   ]
  },
  {
   "cell_type": "code",
   "execution_count": 25,
   "metadata": {},
   "outputs": [
    {
     "name": "stdout",
     "output_type": "stream",
     "text": [
      "Busquen un asteroide\n"
     ]
    }
   ],
   "source": [
    "asteroide= 19\n",
    "\n",
    "if asteroide == 19:\n",
    "    print(\"Busquen un asteroide\")\n",
    "elif asteroide>=20:\n",
    "    print(\"Busquen un asteroide\")  \n",
    "else:\n",
    "    print(\"Todo Tranquilo\")\n",
    "  \n"
   ]
  },
  {
   "cell_type": "markdown",
   "metadata": {},
   "source": [
    "# Uso de Operadores and y or"
   ]
  },
  {
   "cell_type": "code",
   "execution_count": 29,
   "metadata": {},
   "outputs": [
    {
     "name": "stdout",
     "output_type": "stream",
     "text": [
      "Todo chido\n"
     ]
    }
   ],
   "source": [
    "tamaño= 22\n",
    "if tamaño >=25:\n",
    "    print(\"Cuidado asteroide muy grande\")\n",
    "elif tamaño >=25 and tamaño<=1000:\n",
    "    print (\"Cuidado asteroide muy grande\")\n",
    "else:\n",
    "    print (\"Todo chido\")    "
   ]
  }
 ],
 "metadata": {
  "interpreter": {
   "hash": "73837c03fa6129749b72be899d227341d5d8f5f75729ec246d6192c98e05bae6"
  },
  "kernelspec": {
   "display_name": "Python 3.10.2 64-bit",
   "language": "python",
   "name": "python3"
  },
  "language_info": {
   "name": "python",
   "version": "3.10.2"
  },
  "orig_nbformat": 4
 },
 "nbformat": 4,
 "nbformat_minor": 2
}
