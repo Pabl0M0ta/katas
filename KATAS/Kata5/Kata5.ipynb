{
 "cells": [
  {
   "cell_type": "code",
   "execution_count": null,
   "metadata": {},
   "outputs": [],
   "source": []
  },
  {
   "cell_type": "markdown",
   "metadata": {},
   "source": [
    "# Kata 5"
   ]
  },
  {
   "cell_type": "code",
   "execution_count": 1,
   "metadata": {},
   "outputs": [
    {
     "name": "stdout",
     "output_type": "stream",
     "text": [
      "628949330\n",
      "390577533.93\n"
     ]
    }
   ],
   "source": [
    "Tierra=149597870\n",
    "Jupiter=778547200\n",
    "\n",
    "distancia= Jupiter - Tierra\n",
    "print(distancia)\n",
    "print(distancia*0.621)"
   ]
  },
  {
   "cell_type": "markdown",
   "metadata": {},
   "source": [
    "# Ejercicio 2"
   ]
  },
  {
   "cell_type": "code",
   "execution_count": 3,
   "metadata": {},
   "outputs": [
    {
     "name": "stdout",
     "output_type": "stream",
     "text": [
      "Favor de Ingresar la distancia de los planeras\n",
      "\n",
      "-6583484\n",
      "4088343.564\n"
     ]
    }
   ],
   "source": [
    "print(\"\"\"Favor de Ingresar la distancia de los planeras\n",
    "\"\"\")\n",
    "\n",
    "planeta1=input(\"Planeta 1\")\n",
    "planeta2=input(\"Planeta 2\")\n",
    "\n",
    "planeta1=int(planeta1)\n",
    "planeta2=int(planeta2)\n",
    "\n",
    "distancia=planeta1 - planeta2\n",
    "print(distancia)\n",
    "\n",
    "distancia_millas=distancia*0.621\n",
    "\n",
    "print(abs(distancia_millas))"
   ]
  }
 ],
 "metadata": {
  "interpreter": {
   "hash": "73837c03fa6129749b72be899d227341d5d8f5f75729ec246d6192c98e05bae6"
  },
  "kernelspec": {
   "display_name": "Python 3.10.2 64-bit",
   "language": "python",
   "name": "python3"
  },
  "language_info": {
   "codemirror_mode": {
    "name": "ipython",
    "version": 3
   },
   "file_extension": ".py",
   "mimetype": "text/x-python",
   "name": "python",
   "nbconvert_exporter": "python",
   "pygments_lexer": "ipython3",
   "version": "3.10.2"
  },
  "orig_nbformat": 4
 },
 "nbformat": 4,
 "nbformat_minor": 2
}
